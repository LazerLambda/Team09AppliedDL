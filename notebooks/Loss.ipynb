{
 "cells": [
  {
   "cell_type": "code",
   "execution_count": 2,
   "metadata": {},
   "outputs": [],
   "source": [
    "import torch"
   ]
  },
  {
   "cell_type": "code",
   "execution_count": 6,
   "metadata": {},
   "outputs": [
    {
     "data": {
      "text/plain": [
       "tensor(0.5379)"
      ]
     },
     "execution_count": 6,
     "metadata": {},
     "output_type": "execute_result"
    }
   ],
   "source": [
    "torch.sum(sigmoid_loss(torch.Tensor([1, 1]), torch.Tensor([1, 1])))"
   ]
  },
  {
   "cell_type": "markdown",
   "metadata": {},
   "source": [
    " # ToDo"
   ]
  },
  {
   "cell_type": "code",
   "execution_count": 10,
   "metadata": {},
   "outputs": [],
   "source": [
    "class ImbalancedLoss:\n",
    "\n",
    "    @staticmethod\n",
    "    def sum_exp(x: torch.Tensor, sgn: int):\n",
    "        return torch.sum(\n",
    "            sigmoid_loss(\n",
    "                output=x,\n",
    "                label=(sgn * torch.ones(x.shape[0]))))\n",
    "    \n",
    "    @staticmethod\n",
    "    def sigmoid_loss(output: torch.Tensor, label: torch.Tensor) -> torch.Tensor:\n",
    "        \"\"\"Compute Sigmoid Loss Function.\n",
    "        \n",
    "        Compute:\n",
    "        :param output: predicted value.\n",
    "\n",
    "        :return: loss\n",
    "        \"\"\"\n",
    "        product: torch.Tensor = torch.mul(output, label)\n",
    "        denum: torch.Tensor = torch.add(1, torch.exp(product))\n",
    "        return torch.div(1, denum)\n",
    "\n",
    "    def imbalanced_nnpu(\n",
    "            self,\n",
    "            pred_p: torch.Tensor,\n",
    "            pred_u: torch.Tensor,\n",
    "            p: float,\n",
    "            p_: float) -> torch.Tensor:\n",
    "        \"\"\"Compute ImbalancednnPU-Loss\n",
    "\n",
    "        Implementation according to https://www.ijcai.org/proceedings/2021/0412.pdf\n",
    "        \n",
    "        :param pred_p: Positive labeled data.\n",
    "        :param pred_u: Unlabeled data.\n",
    "        :param p: Proportion of labeled to unlabeled data.\n",
    "        :param p_: Proportion of upsampled data.\n",
    "\n",
    "        :returns: Loss for batch. \n",
    "        \"\"\"\n",
    "        \n",
    "        nu: int = pred_u.shape[0]\n",
    "        cu: float = (1 - p_) / (nu * (1 - p))\n",
    "\n",
    "        np: int = pred_p.shape[0]\n",
    "        cp: float = (1 - p_) * p / (np * (1 - p))\n",
    "\n",
    "        return cu * self.sum_exp(pred_u, -1) - cp * self.sum_exp(pred_p, -1)\n",
    "\n",
    "    def nn_balancePN(\n",
    "            self,\n",
    "            pred_p: torch.Tensor,\n",
    "            pred_u: torch.Tensor,\n",
    "            p: float,\n",
    "            p_: float) -> torch.Tensor:\n",
    "        \"\"\"Compute nnBalancePN.\n",
    "\n",
    "        Implementation according to https://arxiv.org/abs/1703.00593.\n",
    "\n",
    "        :param pred_p: Positive labeled data.\n",
    "        :param pred_u: Unlabeled data.\n",
    "        :param p: Proportion of labeled to unlabeled data.\n",
    "        :param p_: Proportion of upsampled data.\n",
    "\n",
    "        :returns: Loss for batch. \n",
    "        \"\"\"\n",
    "        np: int = pred_p.shape[0]\n",
    "        clipped_imbnnPU: torch.Tensor = torch.max(\n",
    "            torch.Tensor([0]),\n",
    "            self.imbalanced_nnpu(\n",
    "                pred_p=pred_p,\n",
    "                pred_u=pred_u,\n",
    "                p=p,\n",
    "                p_=p_\n",
    "            ))\n",
    "        return p_ / np * self.sum_exp(pred_p, 1) + clipped_imbnnPU\n",
    "\n",
    "        \n",
    "    \n"
   ]
  },
  {
   "cell_type": "code",
   "execution_count": 14,
   "metadata": {},
   "outputs": [],
   "source": [
    "loss = ImbalancedLoss()"
   ]
  },
  {
   "cell_type": "code",
   "execution_count": null,
   "metadata": {},
   "outputs": [],
   "source": [
    "loss"
   ]
  },
  {
   "cell_type": "markdown",
   "metadata": {},
   "source": [
    "## Prepare Data"
   ]
  },
  {
   "cell_type": "code",
   "execution_count": 43,
   "metadata": {},
   "outputs": [],
   "source": [
    "import gzip\n",
    "import csv\n",
    "import pandas as pd\n",
    "import numpy as np"
   ]
  },
  {
   "cell_type": "code",
   "execution_count": 28,
   "metadata": {},
   "outputs": [],
   "source": []
  },
  {
   "cell_type": "code",
   "execution_count": 65,
   "metadata": {},
   "outputs": [],
   "source": [
    "data = pd.read_csv('../data/raw/mhc1_shifted_negatives_c_terminus.csv.gz', compression=\"gzip\", sep=',')\n",
    "data_P: pd.DataFrame = data[data['is_positive'] == 1].copy()\n",
    "data_U: pd.DataFrame = data[data['is_positive'] != 1].copy()\n",
    "data_U['is_positive'] = np.ones(len(data_U)) * -1"
   ]
  },
  {
   "cell_type": "code",
   "execution_count": null,
   "metadata": {},
   "outputs": [],
   "source": []
  }
 ],
 "metadata": {
  "interpreter": {
   "hash": "916dbcbb3f70747c44a77c7bcd40155683ae19c65e1c03b4aa3499c5328201f1"
  },
  "kernelspec": {
   "display_name": "Python 3.10.4 64-bit",
   "language": "python",
   "name": "python3"
  },
  "language_info": {
   "codemirror_mode": {
    "name": "ipython",
    "version": 3
   },
   "file_extension": ".py",
   "mimetype": "text/x-python",
   "name": "python",
   "nbconvert_exporter": "python",
   "pygments_lexer": "ipython3",
   "version": "3.10.4"
  },
  "orig_nbformat": 4
 },
 "nbformat": 4,
 "nbformat_minor": 2
}
