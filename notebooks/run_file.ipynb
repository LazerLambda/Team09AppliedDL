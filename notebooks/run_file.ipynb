{
  "cells": [
    {
      "cell_type": "markdown",
      "metadata": {
        "id": "ojzdZbAjZk1Z"
      },
      "source": [
        "# Import Git-Repositroy"
      ]
    },
    {
      "cell_type": "code",
      "execution_count": null,
      "metadata": {
        "id": "LwZkYHPReS5G"
      },
      "outputs": [],
      "source": [
        "!rm -rf /content/Team09AppliedDL\n",
        "import os\n",
        "os.chdir('/content')"
      ]
    },
    {
      "cell_type": "code",
      "execution_count": null,
      "metadata": {
        "id": "1phHX42hCIVb"
      },
      "outputs": [],
      "source": [
        "git_token = 'insert your git-token'\n",
        "username ='LazerLambda'\n",
        "repository = 'Team09AppliedDL'"
      ]
    },
    {
      "cell_type": "code",
      "execution_count": null,
      "metadata": {
        "id": "CcvGxrqaBd0_"
      },
      "outputs": [],
      "source": [
        "!git clone https://{git_token}@github.com/{username}/{repository}\n",
        "%cd /content/Team09AppliedDL"
      ]
    },
    {
      "cell_type": "code",
      "execution_count": null,
      "metadata": {
        "id": "axoOmjKuF-FD"
      },
      "outputs": [],
      "source": [
        "%cd /content/Team09AppliedDL/src"
      ]
    },
    {
      "cell_type": "code",
      "execution_count": null,
      "metadata": {
        "colab": {
          "background_save": true
        },
        "id": "69hfbs3AFZkb"
      },
      "outputs": [],
      "source": [
        "from main import main"
      ]
    },
    {
      "cell_type": "markdown",
      "source": [
        "[Load Data]"
      ],
      "metadata": {
        "id": "RpkKCy65Itmw"
      }
    },
    {
      "cell_type": "markdown",
      "metadata": {
        "id": "RfH0Ih9BZo6U"
      },
      "source": [
        "# Run main function"
      ]
    },
    {
      "cell_type": "code",
      "execution_count": null,
      "metadata": {
        "id": "HPyLTT8IHtHQ"
      },
      "outputs": [],
      "source": [
        "main({'config_path' :'/content/Team09AppliedDL/config/hyperparameters.yml', \n",
        "      'data_path' : 'path to data',\n",
        "      'wandb' : True})"
      ]
    }
  ],
  "metadata": {
    "accelerator": "GPU",
    "colab": {
      "name": "run_file.ipynb",
      "provenance": []
    },
    "gpuClass": "standard",
    "kernelspec": {
      "display_name": "Python 3",
      "name": "python3"
    },
    "language_info": {
      "name": "python"
    }
  },
  "nbformat": 4,
  "nbformat_minor": 0
}